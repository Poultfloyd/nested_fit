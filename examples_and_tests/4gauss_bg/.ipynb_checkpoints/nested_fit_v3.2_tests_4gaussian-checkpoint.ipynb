{
 "cells": [
  {
   "cell_type": "markdown",
   "metadata": {},
   "source": [
    "# Analysis of cluster algorithm in nested sampling. Tests with four gaussian profiles"
   ]
  },
  {
   "cell_type": "code",
   "execution_count": 1,
   "metadata": {},
   "outputs": [
    {
     "name": "stderr",
     "output_type": "stream",
     "text": [
      "/usr/local/lib/python2.7/site-packages/matplotlib/matplotlib/font_manager.py:1435: MatplotlibDeprecationWarning: matplotlib.verbose is deprecated;\n",
      "Command line argument --verbose-LEVEL is deprecated.\n",
      "This functionality is now provided by the standard\n",
      "python logging library.  To get more (or less) logging output:\n",
      "    import logging\n",
      "    logger = logging.getLogger('matplotlib')\n",
      "    logger.set_level(logging.INFO)\n",
      "/usr/local/lib/python2.7/site-packages/matplotlib/__init__.py:355: MatplotlibDeprecationWarning: matplotlib.verbose is deprecated;\n",
      "Command line argument --verbose-LEVEL is deprecated.\n",
      "This functionality is now provided by the standard\n",
      "python logging library.  To get more (or less) logging output:\n",
      "    import logging\n",
      "    logger = logging.getLogger('matplotlib')\n",
      "    logger.set_level(logging.INFO)\n",
      "  if self.ge(level):\n"
     ]
    },
    {
     "name": "stdout",
     "output_type": "stream",
     "text": [
      "\n",
      "###########################################################\n",
      "#                                                         #\n",
      "#         WELCOME TO NESTED_FIT RESULT ANALYSIS           #\n",
      "#                                                         #\n",
      "#                                                         #\n",
      "# Start with                                              #\n",
      "# 'an=nested_res_V3.Analysis()'                           #\n",
      "# By default the current path is considered.              #\n",
      "#                                                         #\n",
      "# If you want analyze another path:                       #\n",
      "# 'an=nested_res_V3.Analysis(path=\"path\")'                #\n",
      "#                                                         #\n",
      "# If you do not want to specify any path:                 #\n",
      "# 'an=nested_res.Analysis(path=None)'                     #\n",
      "#                                                         #\n",
      "# To reload the data in the present directory:            #\n",
      "# 'an.load_data()'                                        #\n",
      "# otherwise specific the path                             #\n",
      "# 'an.load_data(path=\"your path\")'                        #\n",
      "#                                                         #\n",
      "# Uses the different functions                            #\n",
      "# 'an.function()', (ex: 'an.plot()')                      #\n",
      "#                                                         #\n",
      "# To see the available function tape                      #\n",
      "# 'an.' and then the 'tab' button                         #\n",
      "#                                                         #\n",
      "# To see the description of the different functions tape: #\n",
      "# 'an.function?'                                          #\n",
      "#                                                         #\n",
      "# For any problem write to trassinelli@insp.jussieu.fr    #\n",
      "###########################################################\n",
      "\n",
      "\n",
      "Present version 3\n",
      "\n",
      "Current path =  None\n",
      "Please indicate a path if needed\n"
     ]
    }
   ],
   "source": [
    "import pandas as pd\n",
    "import numpy as np\n",
    "import matplotlib.pyplot as plt\n",
    "import nested_res_V3 as nr\n",
    "import glob\n",
    "from scipy.optimize import curve_fit\n",
    "\n",
    "#import seaborn as sns\n",
    "#sns.set(color_codes=True)\n",
    "\n",
    "%matplotlib inline\n",
    "\n",
    "linestyle = {\"markeredgewidth\":2, \"elinewidth\":2, \"capsize\":4,\"markersize\":5}\n",
    "\n",
    "summary = nr.Summary()\n",
    "an = nr.Analysis(None)"
   ]
  },
  {
   "cell_type": "markdown",
   "metadata": {},
   "source": [
    "## Analysis varying live point number"
   ]
  },
  {
   "cell_type": "code",
   "execution_count": 2,
   "metadata": {},
   "outputs": [
    {
     "data": {
      "text/plain": [
       "['50_livepoints',\n",
       " '10000_livepoints',\n",
       " '200_livepoints',\n",
       " '500_livepoints',\n",
       " '2000_livepoints',\n",
       " '5000_livepoints',\n",
       " '1000_livepoints',\n",
       " '100_livepoints']"
      ]
     },
     "execution_count": 2,
     "metadata": {},
     "output_type": "execute_result"
    }
   ],
   "source": [
    "directories = glob.glob('*_livepoints')\n",
    "directories"
   ]
  },
  {
   "cell_type": "code",
   "execution_count": 3,
   "metadata": {},
   "outputs": [
    {
     "name": "stdout",
     "output_type": "stream",
     "text": [
      "Loading directory  50_livepoints\n",
      "Current path =  50_livepoints/\n",
      "Available parameters : ['n', 'lnlikelihood', 'weight', 'bg', 'x01', 'x02', 'x03', 'x04', 'amp1', 'amp2', 'amp3', 'amp4', 'sigma']\n",
      "Analysis in 50_livepoints/\n",
      "Loading directory  10000_livepoints\n",
      "Current path =  10000_livepoints/\n",
      "Available parameters : ['n', 'lnlikelihood', 'weight', 'bg', 'x01', 'x02', 'x03', 'x04', 'amp1', 'amp2', 'amp3', 'amp4', 'sigma']\n",
      "Analysis in 10000_livepoints/\n",
      "Loading directory  200_livepoints\n",
      "Current path =  200_livepoints/\n",
      "Available parameters : ['n', 'lnlikelihood', 'weight', 'bg', 'x01', 'x02', 'x03', 'x04', 'amp1', 'amp2', 'amp3', 'amp4', 'sigma']\n",
      "Analysis in 200_livepoints/\n",
      "Loading directory  500_livepoints\n",
      "Current path =  500_livepoints/\n",
      "Available parameters : ['n', 'lnlikelihood', 'weight', 'bg', 'x01', 'x02', 'x03', 'x04', 'amp1', 'amp2', 'amp3', 'amp4', 'sigma']\n",
      "Analysis in 500_livepoints/\n",
      "Loading directory  2000_livepoints\n",
      "Current path =  2000_livepoints/\n",
      "Available parameters : ['n', 'lnlikelihood', 'weight', 'bg', 'x01', 'x02', 'x03', 'x04', 'amp1', 'amp2', 'amp3', 'amp4', 'sigma']\n",
      "Analysis in 2000_livepoints/\n",
      "Loading directory  5000_livepoints\n",
      "Current path =  5000_livepoints/\n",
      "Available parameters : ['n', 'lnlikelihood', 'weight', 'bg', 'x01', 'x02', 'x03', 'x04', 'amp1', 'amp2', 'amp3', 'amp4', 'sigma']\n",
      "Analysis in 5000_livepoints/\n",
      "Loading directory  1000_livepoints\n",
      "Current path =  1000_livepoints/\n",
      "Available parameters : ['n', 'lnlikelihood', 'weight', 'bg', 'x01', 'x02', 'x03', 'x04', 'amp1', 'amp2', 'amp3', 'amp4', 'sigma']\n",
      "Analysis in 1000_livepoints/\n",
      "Loading directory  100_livepoints\n",
      "Current path =  100_livepoints/\n",
      "Available parameters : ['n', 'lnlikelihood', 'weight', 'bg', 'x01', 'x02', 'x03', 'x04', 'amp1', 'amp2', 'amp3', 'amp4', 'sigma']\n",
      "Analysis in 100_livepoints/\n",
      "Parameters  found  ['bg', 'x01', 'x02', 'x03', 'x04', 'amp1', 'amp2', 'amp3', 'amp4', 'sigma']\n",
      "\n",
      " #### Available input keys ###\n",
      "npoint\n",
      "set_yn\n",
      "maxstep_try\n",
      "maxntries\n",
      "sdfraction\n",
      "bandwidth\n",
      "nlive\n",
      "xmin\n",
      "nwidth\n",
      "ntry\n",
      "cluster_yn\n",
      "filename\n",
      "version\n",
      "lr\n",
      "distance_limit\n",
      "maxtries\n",
      "function_name\n",
      "njump\n",
      "errorbars_yn\n",
      "cluster_method\n",
      "npar\n",
      "xmax\n",
      "evaccuracy\n",
      "value\n",
      "step\n",
      "minl\n",
      "maxl\n",
      "fixed\n",
      "\n",
      " #### Available output keys ###\n",
      "conf_level_p68\n",
      "niter\n",
      "cpu_computation_time\n",
      "conf_level_m95\n",
      "evidence_sd\n",
      "max\n",
      "conf_level_p95\n",
      "real_computation_time\n",
      "like_max\n",
      "evidence\n",
      "n_cores\n",
      "median\n",
      "complexity\n",
      "conf_level_m99\n",
      "conf_level_m68\n",
      "information\n",
      "sd\n",
      "conf_level_p99\n",
      "mean\n"
     ]
    }
   ],
   "source": [
    "df = summary.add_simulations(directories,directories)"
   ]
  },
  {
   "cell_type": "code",
   "execution_count": 4,
   "metadata": {},
   "outputs": [
    {
     "data": {
      "text/html": [
       "<div>\n",
       "<style scoped>\n",
       "    .dataframe tbody tr th:only-of-type {\n",
       "        vertical-align: middle;\n",
       "    }\n",
       "\n",
       "    .dataframe tbody tr th {\n",
       "        vertical-align: top;\n",
       "    }\n",
       "\n",
       "    .dataframe thead th {\n",
       "        text-align: right;\n",
       "    }\n",
       "</style>\n",
       "<table border=\"1\" class=\"dataframe\">\n",
       "  <thead>\n",
       "    <tr style=\"text-align: right;\">\n",
       "      <th></th>\n",
       "      <th>nlive</th>\n",
       "      <th>evidence</th>\n",
       "      <th>evidence_sd</th>\n",
       "      <th>cpu_computation_time</th>\n",
       "    </tr>\n",
       "    <tr>\n",
       "      <th>labels</th>\n",
       "      <th></th>\n",
       "      <th></th>\n",
       "      <th></th>\n",
       "      <th></th>\n",
       "    </tr>\n",
       "  </thead>\n",
       "  <tbody>\n",
       "    <tr>\n",
       "      <th>50_livepoints</th>\n",
       "      <td>50</td>\n",
       "      <td>-326.897888</td>\n",
       "      <td>3.260696</td>\n",
       "      <td>8.797614</td>\n",
       "    </tr>\n",
       "    <tr>\n",
       "      <th>10000_livepoints</th>\n",
       "      <td>10000</td>\n",
       "      <td>-323.157397</td>\n",
       "      <td>0.069139</td>\n",
       "      <td>4102.201919</td>\n",
       "    </tr>\n",
       "    <tr>\n",
       "      <th>200_livepoints</th>\n",
       "      <td>200</td>\n",
       "      <td>-324.754739</td>\n",
       "      <td>1.169948</td>\n",
       "      <td>41.210049</td>\n",
       "    </tr>\n",
       "    <tr>\n",
       "      <th>500_livepoints</th>\n",
       "      <td>500</td>\n",
       "      <td>-323.578773</td>\n",
       "      <td>0.314786</td>\n",
       "      <td>116.535647</td>\n",
       "    </tr>\n",
       "    <tr>\n",
       "      <th>2000_livepoints</th>\n",
       "      <td>2000</td>\n",
       "      <td>-323.227499</td>\n",
       "      <td>0.150742</td>\n",
       "      <td>518.174795</td>\n",
       "    </tr>\n",
       "    <tr>\n",
       "      <th>5000_livepoints</th>\n",
       "      <td>5000</td>\n",
       "      <td>-323.181875</td>\n",
       "      <td>0.096047</td>\n",
       "      <td>1479.956717</td>\n",
       "    </tr>\n",
       "    <tr>\n",
       "      <th>1000_livepoints</th>\n",
       "      <td>1000</td>\n",
       "      <td>-323.313471</td>\n",
       "      <td>0.208795</td>\n",
       "      <td>244.918185</td>\n",
       "    </tr>\n",
       "    <tr>\n",
       "      <th>100_livepoints</th>\n",
       "      <td>100</td>\n",
       "      <td>-325.924827</td>\n",
       "      <td>2.288973</td>\n",
       "      <td>17.897247</td>\n",
       "    </tr>\n",
       "  </tbody>\n",
       "</table>\n",
       "</div>"
      ],
      "text/plain": [
       "                  nlive    evidence  evidence_sd  cpu_computation_time\n",
       "labels                                                                \n",
       "50_livepoints        50 -326.897888     3.260696              8.797614\n",
       "10000_livepoints  10000 -323.157397     0.069139           4102.201919\n",
       "200_livepoints      200 -324.754739     1.169948             41.210049\n",
       "500_livepoints      500 -323.578773     0.314786            116.535647\n",
       "2000_livepoints    2000 -323.227499     0.150742            518.174795\n",
       "5000_livepoints    5000 -323.181875     0.096047           1479.956717\n",
       "1000_livepoints    1000 -323.313471     0.208795            244.918185\n",
       "100_livepoints      100 -325.924827     2.288973             17.897247"
      ]
     },
     "execution_count": 4,
     "metadata": {},
     "output_type": "execute_result"
    }
   ],
   "source": [
    "df['cpu_computation_time']=df['cpu_computation_time']/df['ntry']\n",
    "df[['nlive','evidence','evidence_sd','cpu_computation_time']]"
   ]
  },
  {
   "cell_type": "code",
   "execution_count": 5,
   "metadata": {},
   "outputs": [
    {
     "name": "stdout",
     "output_type": "stream",
     "text": [
      "1 23\n"
     ]
    }
   ],
   "source": [
    "meanshift_files = glob.glob('200_livepoints/nf_meanshift_final*.dat')\n",
    "meanshift_files.sort()\n",
    "number_of_clusters_max = None\n",
    "number_of_clusters_min = None\n",
    "# check the number of cluster of the last file\n",
    "data = np.loadtxt(meanshift_files[-1])\n",
    "number_of_clusters_max = int(max(data[:,0]))\n",
    "number_of_clusters_min = int(min(data[:,0]))\n",
    "print number_of_clusters_min, number_of_clusters_max\n",
    "\n",
    "# The analysis of cluster numbers is not working when there are too few live points, it has to be checked by eyes"
   ]
  },
  {
   "cell_type": "code",
   "execution_count": 41,
   "metadata": {},
   "outputs": [
    {
     "data": {
      "image/png": "[encoded data removed]",
      "text/plain": [
       "<Figure size 432x288 with 1 Axes>"
      ]
     },
     "metadata": {
      "needs_background": "light"
     },
     "output_type": "display_data"
    }
   ],
   "source": [
    "plt.errorbar(df['nlive'],df['evidence'],yerr=df['evidence_sd'],fmt='ok',linestyle= 'None',label='Computed',**linestyle)\n",
    "plt.errorbar(df['nlive'],df['evidence'],yerr=np.sqrt(df['information']/df['nlive']),fmt='ob',linestyle= 'None',label='Estimated',**linestyle)\n",
    "plt.xscale('log')\n",
    "plt.xlabel('Number of live points')\n",
    "plt.ylabel('Log(evidence)')\n",
    "plt.title('Four gaussian peaks analysis')\n",
    "plt.legend()\n",
    "\n",
    "\n",
    "plt.savefig('evidence_4gaussian.pdf')"
   ]
  },
  {
   "cell_type": "code",
   "execution_count": 7,
   "metadata": {},
   "outputs": [
    {
     "name": "stdout",
     "output_type": "stream",
     "text": [
      "[0.09905102 1.12841398] [[ 4.23975662e-05 -5.10397937e-05]\n",
      " [-5.10397937e-05  6.15859849e-05]]\n",
      "1.1284139834173066 +- [       nan 0.00784767]\n"
     ]
    },
    {
     "name": "stderr",
     "output_type": "stream",
     "text": [
      "/usr/local/lib/python2.7/site-packages/ipykernel_launcher.py:19: RuntimeWarning: invalid value encountered in sqrt\n"
     ]
    },
    {
     "data": {
      "image/png": "[encoded data removed]",
      "text/plain": [
       "<Figure size 432x288 with 1 Axes>"
      ]
     },
     "metadata": {
      "needs_background": "light"
     },
     "output_type": "display_data"
    }
   ],
   "source": [
    "plt.plot(df['nlive'],df['cpu_computation_time'],'or')\n",
    "plt.xscale('log')\n",
    "plt.yscale('log')\n",
    "\n",
    "# Make the fit and plot it #######################################\n",
    "def cpu_time(x,a_cpu,c_cpu):\n",
    "    return a_cpu*x**c_cpu\n",
    "\n",
    "xdata = df[(df['nlive'] >= 0)&(df['nlive'] <= 5000)]['nlive']\n",
    "ydata = df[(df['nlive'] >= 0)&(df['nlive'] <= 5000)]['cpu_computation_time']\n",
    "\n",
    "# Make the fit\n",
    "popt_cpu, pcov_cpu = curve_fit(cpu_time, xdata, ydata)\n",
    "print popt_cpu, pcov_cpu\n",
    "\n",
    "xd=np.arange(50,10000)\n",
    "plt.plot(xd,cpu_time(xd,popt_cpu[0],popt_cpu[1]),'--r')\n",
    "\n",
    "print popt_cpu[1], '+-', np.sqrt(pcov_cpu[1])"
   ]
  },
  {
   "cell_type": "code",
   "execution_count": 8,
   "metadata": {},
   "outputs": [
    {
     "name": "stdout",
     "output_type": "stream",
     "text": [
      "[ 7.88213511 -0.52031968] [[ 9.45791278e-01 -1.75477833e-02]\n",
      " [-1.75477833e-02  3.29497476e-04]]\n",
      "-0.5203196773000835 +- [       nan 0.01815207]\n"
     ]
    },
    {
     "name": "stderr",
     "output_type": "stream",
     "text": [
      "/usr/local/lib/python2.7/site-packages/ipykernel_launcher.py:26: RuntimeWarning: invalid value encountered in sqrt\n"
     ]
    },
    {
     "data": {
      "image/png": "[encoded data removed]",
      "text/plain": [
       "<Figure size 432x288 with 1 Axes>"
      ]
     },
     "metadata": {
      "needs_background": "light"
     },
     "output_type": "display_data"
    }
   ],
   "source": [
    "plt.plot(df['nlive'],df['evidence_sd'],'ob',label='measured accuracy')\n",
    "plt.plot(df['nlive'],np.sqrt(df['information']/df['nlive']),'+b',label='estimated accuracy')\n",
    "plt.xscale('log')\n",
    "plt.yscale('log')\n",
    "\n",
    "# Make the fit and plot it #######################################\n",
    "def accuracy(x,a_acc,c_acc):\n",
    "    return a_acc*x**c_acc\n",
    "\n",
    "def accuracy_fix(x,a_acc):\n",
    "    return a_acc*x**(-0.5)\n",
    "\n",
    "xdata = df[df['nlive'] >= 500]['nlive']\n",
    "ydata = df[df['nlive'] >= 500]['evidence_sd']\n",
    "\n",
    "# Make the fit\n",
    "popt_acc, pcov_acc = curve_fit(accuracy, xdata, ydata)\n",
    "#popt_acc, pcov_acc = curve_fit(accuracy_fix, xdata, ydata)\n",
    "print popt_acc, pcov_acc\n",
    "\n",
    "xd=np.arange(50,10000)\n",
    "plt.plot(xd,accuracy(xd,popt_acc[0],popt_acc[1]),'--b')\n",
    "#plt.plot(xd,accuracy_fix(xd,popt_acc[0]),'--b')\n",
    "#plt.plot(xd,accuracy(xd,5,-0.5,0.),'--b')\n",
    "\n",
    "print popt_acc[1], '+-', np.sqrt(pcov_acc[1])"
   ]
  },
  {
   "cell_type": "code",
   "execution_count": 9,
   "metadata": {},
   "outputs": [
    {
     "data": {
      "text/html": [
       "<div>\n",
       "<style scoped>\n",
       "    .dataframe tbody tr th:only-of-type {\n",
       "        vertical-align: middle;\n",
       "    }\n",
       "\n",
       "    .dataframe tbody tr th {\n",
       "        vertical-align: top;\n",
       "    }\n",
       "\n",
       "    .dataframe thead th {\n",
       "        text-align: right;\n",
       "    }\n",
       "</style>\n",
       "<table border=\"1\" class=\"dataframe\">\n",
       "  <thead>\n",
       "    <tr style=\"text-align: right;\">\n",
       "      <th></th>\n",
       "      <th>nlive</th>\n",
       "      <th>evidence</th>\n",
       "      <th>evidence_sd</th>\n",
       "      <th>uncertainty ratio</th>\n",
       "      <th>cpu_computation_time</th>\n",
       "    </tr>\n",
       "    <tr>\n",
       "      <th>labels</th>\n",
       "      <th></th>\n",
       "      <th></th>\n",
       "      <th></th>\n",
       "      <th></th>\n",
       "      <th></th>\n",
       "    </tr>\n",
       "  </thead>\n",
       "  <tbody>\n",
       "    <tr>\n",
       "      <th>50_livepoints</th>\n",
       "      <td>50</td>\n",
       "      <td>-326.897888</td>\n",
       "      <td>3.260696</td>\n",
       "      <td>5.604362</td>\n",
       "      <td>8.797614</td>\n",
       "    </tr>\n",
       "    <tr>\n",
       "      <th>100_livepoints</th>\n",
       "      <td>100</td>\n",
       "      <td>-325.924827</td>\n",
       "      <td>2.288973</td>\n",
       "      <td>5.582646</td>\n",
       "      <td>17.897247</td>\n",
       "    </tr>\n",
       "    <tr>\n",
       "      <th>200_livepoints</th>\n",
       "      <td>200</td>\n",
       "      <td>-324.754739</td>\n",
       "      <td>1.169948</td>\n",
       "      <td>3.945582</td>\n",
       "      <td>41.210049</td>\n",
       "    </tr>\n",
       "    <tr>\n",
       "      <th>500_livepoints</th>\n",
       "      <td>500</td>\n",
       "      <td>-323.578773</td>\n",
       "      <td>0.314786</td>\n",
       "      <td>1.695937</td>\n",
       "      <td>116.535647</td>\n",
       "    </tr>\n",
       "    <tr>\n",
       "      <th>1000_livepoints</th>\n",
       "      <td>1000</td>\n",
       "      <td>-323.313471</td>\n",
       "      <td>0.208795</td>\n",
       "      <td>1.596891</td>\n",
       "      <td>244.918185</td>\n",
       "    </tr>\n",
       "    <tr>\n",
       "      <th>2000_livepoints</th>\n",
       "      <td>2000</td>\n",
       "      <td>-323.227499</td>\n",
       "      <td>0.150742</td>\n",
       "      <td>1.632124</td>\n",
       "      <td>518.174795</td>\n",
       "    </tr>\n",
       "    <tr>\n",
       "      <th>5000_livepoints</th>\n",
       "      <td>5000</td>\n",
       "      <td>-323.181875</td>\n",
       "      <td>0.096047</td>\n",
       "      <td>1.645304</td>\n",
       "      <td>1479.956717</td>\n",
       "    </tr>\n",
       "    <tr>\n",
       "      <th>10000_livepoints</th>\n",
       "      <td>10000</td>\n",
       "      <td>-323.157397</td>\n",
       "      <td>0.069139</td>\n",
       "      <td>1.675558</td>\n",
       "      <td>4102.201919</td>\n",
       "    </tr>\n",
       "  </tbody>\n",
       "</table>\n",
       "</div>"
      ],
      "text/plain": [
       "                  nlive    evidence  evidence_sd  uncertainty ratio  \\\n",
       "labels                                                                \n",
       "50_livepoints        50 -326.897888     3.260696           5.604362   \n",
       "100_livepoints      100 -325.924827     2.288973           5.582646   \n",
       "200_livepoints      200 -324.754739     1.169948           3.945582   \n",
       "500_livepoints      500 -323.578773     0.314786           1.695937   \n",
       "1000_livepoints    1000 -323.313471     0.208795           1.596891   \n",
       "2000_livepoints    2000 -323.227499     0.150742           1.632124   \n",
       "5000_livepoints    5000 -323.181875     0.096047           1.645304   \n",
       "10000_livepoints  10000 -323.157397     0.069139           1.675558   \n",
       "\n",
       "                  cpu_computation_time  \n",
       "labels                                  \n",
       "50_livepoints                 8.797614  \n",
       "100_livepoints               17.897247  \n",
       "200_livepoints               41.210049  \n",
       "500_livepoints              116.535647  \n",
       "1000_livepoints             244.918185  \n",
       "2000_livepoints             518.174795  \n",
       "5000_livepoints            1479.956717  \n",
       "10000_livepoints           4102.201919  "
      ]
     },
     "execution_count": 9,
     "metadata": {},
     "output_type": "execute_result"
    }
   ],
   "source": [
    "df['uncertainty ratio']=df['evidence_sd']/np.sqrt(df['information']/df['nlive'])\n",
    "df[['nlive','evidence','evidence_sd','uncertainty ratio','cpu_computation_time']].sort_values(by='nlive')"
   ]
  },
  {
   "cell_type": "code",
   "execution_count": 66,
   "metadata": {},
   "outputs": [
    {
     "data": {
      "image/png": "[encoded data removed]",
      "text/plain": [
       "<Figure size 432x288 with 2 Axes>"
      ]
     },
     "metadata": {
      "needs_background": "light"
     },
     "output_type": "display_data"
    }
   ],
   "source": [
    "fig, ax1 = plt.subplots()\n",
    "\n",
    "\n",
    "color = 'blue'\n",
    "ax1.set_ylabel('Log(evidence) uncertainty', color=color)  # we already handled the x-label with ax1\n",
    "ax1.plot(df['nlive'],df['evidence_sd'],'o', color=color)\n",
    "ax1.tick_params(axis='y', labelcolor=color)\n",
    "ax1.plot(xd,accuracy(xd,popt_acc[0],popt_acc[1]),'--b')\n",
    "ax1.text(900, 0.07, '$\\propto \\exp(-0.52 \\pm 0.02)$',color=color)\n",
    "\n",
    "plt.xlabel('Number of live points')\n",
    "plt.yscale('log')\n",
    "#plt.grid(which='both',axis='x')\n",
    "\n",
    "ax2 = ax1.twinx()  # instantiate a second axes that shares the same x-axis\n",
    "\n",
    "color = 'red'\n",
    "ax2.set_xlabel('Number of live points')\n",
    "ax2.set_ylabel('CPU computation time per set (s)', color=color)\n",
    "ax2.plot(df['nlive'],df['cpu_computation_time'],'o',color=color)\n",
    "ax2.tick_params(axis='y', labelcolor=color)\n",
    "ax2.plot(xd,cpu_time(xd,popt_cpu[0],popt_cpu[1]),'--r')\n",
    "ax2.text(900, 2000, '$\\propto \\exp(1.13 \\pm 0.01)$',color=color)\n",
    "\n",
    "\n",
    "\n",
    "plt.xscale('log')\n",
    "plt.yscale('log')\n",
    "\n",
    "plt.savefig('evidence_acc_and_cpu_time_4gaussian.pdf')"
   ]
  },
  {
   "cell_type": "markdown",
   "metadata": {},
   "source": [
    "## Analysis varying other parameters"
   ]
  },
  {
   "cell_type": "raw",
   "metadata": {},
   "source": [
    "# Script for making all calculations one after another\n",
    "\n",
    "cd ../1000_livepoints_g_0.6_0.1\n",
    "nested_fit3.2.exe\n",
    "cd ../1000_livepoints_g_0.6_0.4\n",
    "nested_fit3.2.exe\n",
    "cd ../1000_livepoints_g_0.4_0.2\n",
    "nested_fit3.2.exe\n",
    "cd ../1000_livepoints_f_0.8 #NOT WORKING!!!\n",
    "nested_fit3.2.exe\n",
    "cd ../1000_livepoints_f_0.6\n",
    "nested_fit3.2.exe\n",
    "cd ../1000_livepoints_f_0.4\n",
    "nested_fit3.2.exe\n",
    "cd ../1000_livepoints_f_0.2\n",
    "nested_fit3.2.exe\n",
    "\n",
    "\n",
    "cd ../1000_livepoints_f_0.8\n",
    "nested_fit3.2.exe\n",
    "cd ../1000_livepoints_g_0.8_0.3\n",
    "nested_fit3.2.exe\n",
    "\n"
   ]
  },
  {
   "cell_type": "code",
   "execution_count": 11,
   "metadata": {},
   "outputs": [
    {
     "data": {
      "text/plain": [
       "['1000_livepoints_f_0.7',\n",
       " '1000_livepoints_g_0.8_0.2',\n",
       " '1000_livepoints_g_0.8_0.3',\n",
       " '1000_livepoints_f_0.6',\n",
       " '1000_livepoints_g_0.6_0.1',\n",
       " '1000_livepoints_g_0.4_0.1',\n",
       " '1000_livepoints_f_0.4',\n",
       " '1000_livepoints_g_0.8_0.1',\n",
       " '1000_livepoints_f_0.2',\n",
       " '1000_livepoints_g_0.6_0.2',\n",
       " '1000_livepoints_g_0.4_0.2',\n",
       " '1000_livepoints_g_0.6_0.4']"
      ]
     },
     "execution_count": 11,
     "metadata": {},
     "output_type": "execute_result"
    }
   ],
   "source": [
    "directories_new = glob.glob('1000_livepoints_*')\n",
    "directories_new"
   ]
  },
  {
   "cell_type": "code",
   "execution_count": 12,
   "metadata": {},
   "outputs": [
    {
     "data": {
      "text/plain": [
       "['f 0.7',\n",
       " 'g 0.8 0.2',\n",
       " 'g 0.8 0.3',\n",
       " 'f 0.6',\n",
       " 'g 0.6 0.1',\n",
       " 'g 0.4 0.1',\n",
       " 'f 0.4',\n",
       " 'g 0.8 0.1',\n",
       " 'f 0.2',\n",
       " 'g 0.6 0.2',\n",
       " 'g 0.4 0.2',\n",
       " 'g 0.6 0.4']"
      ]
     },
     "execution_count": 12,
     "metadata": {},
     "output_type": "execute_result"
    }
   ],
   "source": [
    "labels = [dir[16:].replace(\"_\",\" \") for dir in directories_new]\n",
    "labels "
   ]
  },
  {
   "cell_type": "code",
   "execution_count": 13,
   "metadata": {},
   "outputs": [
    {
     "name": "stdout",
     "output_type": "stream",
     "text": [
      "Loading directory  1000_livepoints_f_0.7\n",
      "Current path =  1000_livepoints_f_0.7/\n",
      "Available parameters : ['n', 'lnlikelihood', 'weight', 'bg', 'x01', 'x02', 'x03', 'x04', 'amp1', 'amp2', 'amp3', 'amp4', 'sigma']\n",
      "Analysis in 1000_livepoints_f_0.7/\n",
      "Loading directory  1000_livepoints_g_0.8_0.2\n",
      "Current path =  1000_livepoints_g_0.8_0.2/\n",
      "Available parameters : ['n', 'lnlikelihood', 'weight', 'bg', 'x01', 'x02', 'x03', 'x04', 'amp1', 'amp2', 'amp3', 'amp4', 'sigma']\n",
      "Analysis in 1000_livepoints_g_0.8_0.2/\n",
      "Loading directory  1000_livepoints_g_0.8_0.3\n",
      "Current path =  1000_livepoints_g_0.8_0.3/\n",
      "Available parameters : ['n', 'lnlikelihood', 'weight', 'bg', 'x01', 'x02', 'x03', 'x04', 'amp1', 'amp2', 'amp3', 'amp4', 'sigma']\n",
      "Analysis in 1000_livepoints_g_0.8_0.3/\n",
      "Loading directory  1000_livepoints_f_0.6\n",
      "Current path =  1000_livepoints_f_0.6/\n",
      "Available parameters : ['n', 'lnlikelihood', 'weight', 'bg', 'x01', 'x02', 'x03', 'x04', 'amp1', 'amp2', 'amp3', 'amp4', 'sigma']\n",
      "Analysis in 1000_livepoints_f_0.6/\n",
      "Loading directory  1000_livepoints_g_0.6_0.1\n",
      "Current path =  1000_livepoints_g_0.6_0.1/\n",
      "Available parameters : ['n', 'lnlikelihood', 'weight', 'bg', 'x01', 'x02', 'x03', 'x04', 'amp1', 'amp2', 'amp3', 'amp4', 'sigma']\n",
      "Analysis in 1000_livepoints_g_0.6_0.1/\n",
      "Loading directory  1000_livepoints_g_0.4_0.1\n",
      "Current path =  1000_livepoints_g_0.4_0.1/\n",
      "Available parameters : ['n', 'lnlikelihood', 'weight', 'bg', 'x01', 'x02', 'x03', 'x04', 'amp1', 'amp2', 'amp3', 'amp4', 'sigma']\n",
      "Analysis in 1000_livepoints_g_0.4_0.1/\n",
      "Loading directory  1000_livepoints_f_0.4\n",
      "Current path =  1000_livepoints_f_0.4/\n",
      "Available parameters : ['n', 'lnlikelihood', 'weight', 'bg', 'x01', 'x02', 'x03', 'x04', 'amp1', 'amp2', 'amp3', 'amp4', 'sigma']\n",
      "Analysis in 1000_livepoints_f_0.4/\n",
      "Loading directory  1000_livepoints_g_0.8_0.1\n",
      "Current path =  1000_livepoints_g_0.8_0.1/\n",
      "Available parameters : ['n', 'lnlikelihood', 'weight', 'bg', 'x01', 'x02', 'x03', 'x04', 'amp1', 'amp2', 'amp3', 'amp4', 'sigma']\n",
      "Analysis in 1000_livepoints_g_0.8_0.1/\n",
      "Loading directory  1000_livepoints_f_0.2\n",
      "Current path =  1000_livepoints_f_0.2/\n",
      "Available parameters : ['n', 'lnlikelihood', 'weight', 'bg', 'x01', 'x02', 'x03', 'x04', 'amp1', 'amp2', 'amp3', 'amp4', 'sigma']\n",
      "Analysis in 1000_livepoints_f_0.2/\n",
      "Loading directory  1000_livepoints_g_0.6_0.2\n",
      "Current path =  1000_livepoints_g_0.6_0.2/\n",
      "Available parameters : ['n', 'lnlikelihood', 'weight', 'bg', 'x01', 'x02', 'x03', 'x04', 'amp1', 'amp2', 'amp3', 'amp4', 'sigma']\n",
      "Analysis in 1000_livepoints_g_0.6_0.2/\n",
      "Loading directory  1000_livepoints_g_0.4_0.2\n",
      "Current path =  1000_livepoints_g_0.4_0.2/\n",
      "Available parameters : ['n', 'lnlikelihood', 'weight', 'bg', 'x01', 'x02', 'x03', 'x04', 'amp1', 'amp2', 'amp3', 'amp4', 'sigma']\n",
      "Analysis in 1000_livepoints_g_0.4_0.2/\n",
      "Loading directory  1000_livepoints_g_0.6_0.4\n",
      "Current path =  1000_livepoints_g_0.6_0.4/\n",
      "Available parameters : ['n', 'lnlikelihood', 'weight', 'bg', 'x01', 'x02', 'x03', 'x04', 'amp1', 'amp2', 'amp3', 'amp4', 'sigma']\n",
      "Analysis in 1000_livepoints_g_0.6_0.4/\n",
      "Parameters  found  ['bg', 'x01', 'x02', 'x03', 'x04', 'amp1', 'amp2', 'amp3', 'amp4', 'sigma']\n",
      "\n",
      " #### Available input keys ###\n",
      "npoint\n",
      "set_yn\n",
      "maxstep_try\n",
      "maxntries\n",
      "sdfraction\n",
      "bandwidth\n",
      "nlive\n",
      "xmin\n",
      "nwidth\n",
      "ntry\n",
      "cluster_yn\n",
      "filename\n",
      "version\n",
      "lr\n",
      "distance_limit\n",
      "maxtries\n",
      "function_name\n",
      "njump\n",
      "errorbars_yn\n",
      "cluster_method\n",
      "npar\n",
      "xmax\n",
      "evaccuracy\n",
      "value\n",
      "step\n",
      "minl\n",
      "maxl\n",
      "fixed\n",
      "\n",
      " #### Available output keys ###\n",
      "conf_level_p68\n",
      "niter\n",
      "cpu_computation_time\n",
      "conf_level_m95\n",
      "evidence_sd\n",
      "max\n",
      "conf_level_p95\n",
      "real_computation_time\n",
      "like_max\n",
      "evidence\n",
      "n_cores\n",
      "median\n",
      "complexity\n",
      "conf_level_m99\n",
      "conf_level_m68\n",
      "information\n",
      "sd\n",
      "conf_level_p99\n",
      "mean\n"
     ]
    }
   ],
   "source": [
    "df_new = summary.add_simulations(directories_new,labels)\n",
    "df_new['cpu_computation_time']=df_new['cpu_computation_time']/df_new['ntry']"
   ]
  },
  {
   "cell_type": "code",
   "execution_count": 14,
   "metadata": {},
   "outputs": [
    {
     "name": "stdout",
     "output_type": "stream",
     "text": [
      "f 0.7 341.0\n"
     ]
    },
    {
     "name": "stderr",
     "output_type": "stream",
     "text": [
      "/usr/local/lib/python2.7/site-packages/pandas/core/indexing.py:190: SettingWithCopyWarning: \n",
      "A value is trying to be set on a copy of a slice from a DataFrame\n",
      "\n",
      "See the caveats in the documentation: http://pandas.pydata.org/pandas-docs/stable/indexing.html#indexing-view-versus-copy\n",
      "  self._setitem_with_indexer(indexer, value)\n"
     ]
    },
    {
     "name": "stdout",
     "output_type": "stream",
     "text": [
      "g 0.8 0.2 6.6875\n",
      "g 0.8 0.3 281.0\n",
      "f 0.6 32.5\n",
      "g 0.6 0.1 4.0625\n",
      "g 0.4 0.1 6.0\n",
      "f 0.4 5.9375\n",
      "g 0.8 0.1 3.8125\n",
      "f 0.2 2.25\n",
      "g 0.6 0.2 6.5\n",
      "g 0.4 0.2 8.5\n",
      "g 0.6 0.4 17.75\n"
     ]
    }
   ],
   "source": [
    "df_new['n meanshift calls']=0.\n",
    "for dir in directories_new:\n",
    "    #if dir in ['1000_livepoints_g_0.8_0.3']:\n",
    "    #    continue\n",
    "    meanshift_files = glob.glob(dir+'/nf_meanshift_final_*.dat')\n",
    "    label = dir[16:].replace(\"_\",\" \")\n",
    "    df_new['n meanshift calls'].loc[label] = len(meanshift_files)/float(df_new['ntry'].loc[label])\n",
    "    print label, df_new['n meanshift calls'].loc[label]"
   ]
  },
  {
   "cell_type": "code",
   "execution_count": 15,
   "metadata": {},
   "outputs": [],
   "source": [
    "df_new=df_new.sort_index()"
   ]
  },
  {
   "cell_type": "code",
   "execution_count": 16,
   "metadata": {},
   "outputs": [
    {
     "data": {
      "text/html": [
       "<div>\n",
       "<style scoped>\n",
       "    .dataframe tbody tr th:only-of-type {\n",
       "        vertical-align: middle;\n",
       "    }\n",
       "\n",
       "    .dataframe tbody tr th {\n",
       "        vertical-align: top;\n",
       "    }\n",
       "\n",
       "    .dataframe thead th {\n",
       "        text-align: right;\n",
       "    }\n",
       "</style>\n",
       "<table border=\"1\" class=\"dataframe\">\n",
       "  <thead>\n",
       "    <tr style=\"text-align: right;\">\n",
       "      <th></th>\n",
       "      <th>evidence</th>\n",
       "      <th>evidence_sd</th>\n",
       "      <th>cpu_computation_time</th>\n",
       "      <th>n meanshift calls</th>\n",
       "      <th>distance_limit</th>\n",
       "    </tr>\n",
       "    <tr>\n",
       "      <th>labels</th>\n",
       "      <th></th>\n",
       "      <th></th>\n",
       "      <th></th>\n",
       "      <th></th>\n",
       "      <th></th>\n",
       "    </tr>\n",
       "  </thead>\n",
       "  <tbody>\n",
       "    <tr>\n",
       "      <th>f 0.2</th>\n",
       "      <td>-325.767284</td>\n",
       "      <td>0.773706</td>\n",
       "      <td>172.183271</td>\n",
       "      <td>2.2500</td>\n",
       "      <td>0.2</td>\n",
       "    </tr>\n",
       "    <tr>\n",
       "      <th>f 0.4</th>\n",
       "      <td>-323.345038</td>\n",
       "      <td>0.218351</td>\n",
       "      <td>225.444925</td>\n",
       "      <td>5.9375</td>\n",
       "      <td>0.4</td>\n",
       "    </tr>\n",
       "    <tr>\n",
       "      <th>f 0.6</th>\n",
       "      <td>-323.082616</td>\n",
       "      <td>0.189412</td>\n",
       "      <td>315.659323</td>\n",
       "      <td>32.5000</td>\n",
       "      <td>0.6</td>\n",
       "    </tr>\n",
       "    <tr>\n",
       "      <th>f 0.7</th>\n",
       "      <td>-322.620603</td>\n",
       "      <td>0.000000</td>\n",
       "      <td>714.571722</td>\n",
       "      <td>341.0000</td>\n",
       "      <td>0.7</td>\n",
       "    </tr>\n",
       "    <tr>\n",
       "      <th>g 0.4 0.1</th>\n",
       "      <td>-325.520583</td>\n",
       "      <td>0.998642</td>\n",
       "      <td>193.702678</td>\n",
       "      <td>6.0000</td>\n",
       "      <td>0.4</td>\n",
       "    </tr>\n",
       "    <tr>\n",
       "      <th>g 0.4 0.2</th>\n",
       "      <td>-323.620886</td>\n",
       "      <td>0.361343</td>\n",
       "      <td>219.277942</td>\n",
       "      <td>8.5000</td>\n",
       "      <td>0.4</td>\n",
       "    </tr>\n",
       "    <tr>\n",
       "      <th>g 0.6 0.1</th>\n",
       "      <td>-325.630412</td>\n",
       "      <td>0.989160</td>\n",
       "      <td>191.879385</td>\n",
       "      <td>4.0625</td>\n",
       "      <td>0.6</td>\n",
       "    </tr>\n",
       "    <tr>\n",
       "      <th>g 0.6 0.2</th>\n",
       "      <td>-323.313471</td>\n",
       "      <td>0.208795</td>\n",
       "      <td>244.918185</td>\n",
       "      <td>6.5000</td>\n",
       "      <td>0.6</td>\n",
       "    </tr>\n",
       "    <tr>\n",
       "      <th>g 0.6 0.4</th>\n",
       "      <td>-323.131529</td>\n",
       "      <td>0.236825</td>\n",
       "      <td>295.814619</td>\n",
       "      <td>17.7500</td>\n",
       "      <td>0.6</td>\n",
       "    </tr>\n",
       "    <tr>\n",
       "      <th>g 0.8 0.1</th>\n",
       "      <td>-325.352415</td>\n",
       "      <td>1.263949</td>\n",
       "      <td>194.305195</td>\n",
       "      <td>3.8125</td>\n",
       "      <td>0.8</td>\n",
       "    </tr>\n",
       "    <tr>\n",
       "      <th>g 0.8 0.2</th>\n",
       "      <td>-323.293962</td>\n",
       "      <td>0.243275</td>\n",
       "      <td>243.310077</td>\n",
       "      <td>6.6875</td>\n",
       "      <td>0.8</td>\n",
       "    </tr>\n",
       "    <tr>\n",
       "      <th>g 0.8 0.3</th>\n",
       "      <td>-323.083454</td>\n",
       "      <td>0.000000</td>\n",
       "      <td>705.810788</td>\n",
       "      <td>281.0000</td>\n",
       "      <td>0.8</td>\n",
       "    </tr>\n",
       "  </tbody>\n",
       "</table>\n",
       "</div>"
      ],
      "text/plain": [
       "             evidence  evidence_sd  cpu_computation_time  n meanshift calls  \\\n",
       "labels                                                                        \n",
       "f 0.2     -325.767284     0.773706            172.183271             2.2500   \n",
       "f 0.4     -323.345038     0.218351            225.444925             5.9375   \n",
       "f 0.6     -323.082616     0.189412            315.659323            32.5000   \n",
       "f 0.7     -322.620603     0.000000            714.571722           341.0000   \n",
       "g 0.4 0.1 -325.520583     0.998642            193.702678             6.0000   \n",
       "g 0.4 0.2 -323.620886     0.361343            219.277942             8.5000   \n",
       "g 0.6 0.1 -325.630412     0.989160            191.879385             4.0625   \n",
       "g 0.6 0.2 -323.313471     0.208795            244.918185             6.5000   \n",
       "g 0.6 0.4 -323.131529     0.236825            295.814619            17.7500   \n",
       "g 0.8 0.1 -325.352415     1.263949            194.305195             3.8125   \n",
       "g 0.8 0.2 -323.293962     0.243275            243.310077             6.6875   \n",
       "g 0.8 0.3 -323.083454     0.000000            705.810788           281.0000   \n",
       "\n",
       "           distance_limit  \n",
       "labels                     \n",
       "f 0.2                 0.2  \n",
       "f 0.4                 0.4  \n",
       "f 0.6                 0.6  \n",
       "f 0.7                 0.7  \n",
       "g 0.4 0.1             0.4  \n",
       "g 0.4 0.2             0.4  \n",
       "g 0.6 0.1             0.6  \n",
       "g 0.6 0.2             0.6  \n",
       "g 0.6 0.4             0.6  \n",
       "g 0.8 0.1             0.8  \n",
       "g 0.8 0.2             0.8  \n",
       "g 0.8 0.3             0.8  "
      ]
     },
     "execution_count": 16,
     "metadata": {},
     "output_type": "execute_result"
    }
   ],
   "source": [
    "df_new[['evidence','evidence_sd','cpu_computation_time','n meanshift calls','distance_limit']]"
   ]
  },
  {
   "cell_type": "code",
   "execution_count": 17,
   "metadata": {},
   "outputs": [
    {
     "data": {
      "text/plain": [
       "([0, 1, 2, 3, 4, 5, 6, 7, 8, 9, 10, 11],\n",
       " <a list of 12 Text xticklabel objects>)"
      ]
     },
     "execution_count": 17,
     "metadata": {},
     "output_type": "execute_result"
    },
    {
     "data": {
      "image/png": "[encoded data removed]",
      "text/plain": [
       "<Figure size 432x288 with 1 Axes>"
      ]
     },
     "metadata": {
      "needs_background": "light"
     },
     "output_type": "display_data"
    }
   ],
   "source": [
    "#df_new['evidence'].plot(yerr=df_new['evidence_sd'],fmt='ok',linestyle= 'None',**linestyle)\n",
    "plt.errorbar(df_new.index,'evidence',yerr='evidence_sd',data=df_new,fmt='ok',linestyle= 'None',**linestyle)\n",
    "plt.xticks(rotation='vertical')"
   ]
  },
  {
   "cell_type": "code",
   "execution_count": 18,
   "metadata": {},
   "outputs": [
    {
     "data": {
      "text/plain": [
       "([0, 1, 2, 3, 4, 5, 6, 7, 8, 9, 10, 11],\n",
       " <a list of 12 Text xticklabel objects>)"
      ]
     },
     "execution_count": 18,
     "metadata": {},
     "output_type": "execute_result"
    },
    {
     "data": {
      "image/png": "[encoded data removed]",
      "text/plain": [
       "<Figure size 432x288 with 1 Axes>"
      ]
     },
     "metadata": {
      "needs_background": "light"
     },
     "output_type": "display_data"
    }
   ],
   "source": [
    "plt.plot(df_new.index,'cpu_computation_time','or',data=df_new)\n",
    "plt.xticks(rotation='vertical')"
   ]
  },
  {
   "cell_type": "code",
   "execution_count": 19,
   "metadata": {},
   "outputs": [
    {
     "data": {
      "text/plain": [
       "([0, 1, 2, 3, 4, 5, 6, 7, 8, 9, 10, 11],\n",
       " <a list of 12 Text xticklabel objects>)"
      ]
     },
     "execution_count": 19,
     "metadata": {},
     "output_type": "execute_result"
    },
    {
     "data": {
      "image/png": "[encoded data removed]",
      "text/plain": [
       "<Figure size 432x288 with 1 Axes>"
      ]
     },
     "metadata": {
      "needs_background": "light"
     },
     "output_type": "display_data"
    }
   ],
   "source": [
    "plt.plot(df_new.index,'n meanshift calls','ob',data=df_new)\n",
    "plt.xticks(rotation='vertical')"
   ]
  },
  {
   "cell_type": "code",
   "execution_count": 71,
   "metadata": {},
   "outputs": [
    {
     "data": {
      "image/png": "[encoded data removed]",
      "text/plain": [
       "<Figure size 432x288 with 2 Axes>"
      ]
     },
     "metadata": {
      "needs_background": "light"
     },
     "output_type": "display_data"
    }
   ],
   "source": [
    "fig, ax1 = plt.subplots()\n",
    "\n",
    "\n",
    "color = 'black'\n",
    "ax1.set_ylabel('Log(evidence)', color=color)  # we already handled the x-label with ax1\n",
    "ax1.errorbar(df_new.index,'evidence',yerr='evidence_sd',data=df_new,fmt='o',color=color,linestyle= 'None',**linestyle)\n",
    "ax1.tick_params(axis='y', labelcolor=color)\n",
    "\n",
    "ax1.set_xticklabels(df_new.index, rotation=90, ha='right')\n",
    "ax1.set_xlabel('Parameter set')\n",
    "\n",
    "ax2 = ax1.twinx()  # instantiate a second axes that shares the same x-axis\n",
    "\n",
    "color = 'red'\n",
    "ax2.set_ylabel('CPU computation time per set (s)', color=color)\n",
    "ax2.plot(df_new.index,'cpu_computation_time','o',data=df_new,color=color)\n",
    "ax2.set_ylim(0,800)\n",
    "#plt.yscale('log')\n",
    "ax2.tick_params(axis='y',labelcolor=color)\n",
    "\n",
    "\n",
    "plt.subplots_adjust(bottom=0.20)\n",
    "\n",
    "plt.savefig('evidence_and_cpu_time_4gaussian.pdf')\n"
   ]
  },
  {
   "cell_type": "code",
   "execution_count": 69,
   "metadata": {},
   "outputs": [
    {
     "data": {
      "image/png": "[encoded data removed]",
      "text/plain": [
       "<Figure size 432x288 with 2 Axes>"
      ]
     },
     "metadata": {
      "needs_background": "light"
     },
     "output_type": "display_data"
    }
   ],
   "source": [
    "fig, ax1 = plt.subplots()\n",
    "color = 'red'\n",
    "ax1.set_ylabel('CPU computation time per set (s)', color=color)\n",
    "ax1.plot(df_new.index,'cpu_computation_time','o',data=df_new,color=color)\n",
    "ax1.tick_params(axis='y', labelcolor=color)\n",
    "\n",
    "ax1.set_xticklabels(df_new.index, rotation=90, ha='right')\n",
    "ax1.set_xlabel('Parameter set')\n",
    "\n",
    "ax2 = ax1.twinx()  # instantiate a second axes that shares the same x-axis\n",
    "\n",
    "color = 'blue'\n",
    "ax2.set_ylabel('Average cluster analysis calls', color=color)  # we already handled the x-label with ax1\n",
    "ax2.plot(df_new.index,'n meanshift calls','o',data=df_new,color=color)\n",
    "ax2.tick_params(axis='y', labelcolor=color)\n",
    "ax2.set_ylim(0,35)\n"
   ]
  },
  {
   "cell_type": "code",
   "execution_count": null,
   "metadata": {},
   "outputs": [],
   "source": []
  },
  {
   "cell_type": "code",
   "execution_count": null,
   "metadata": {},
   "outputs": [],
   "source": []
  },
  {
   "cell_type": "code",
   "execution_count": null,
   "metadata": {},
   "outputs": [],
   "source": []
  },
  {
   "cell_type": "code",
   "execution_count": null,
   "metadata": {},
   "outputs": [],
   "source": []
  }
 ],
 "metadata": {
  "kernelspec": {
   "display_name": "Python 2",
   "language": "python",
   "name": "python2"
  },
  "language_info": {
   "codemirror_mode": {
    "name": "ipython",
    "version": 2
   },
   "file_extension": ".py",
   "mimetype": "text/x-python",
   "name": "python",
   "nbconvert_exporter": "python",
   "pygments_lexer": "ipython2",
   "version": "2.7.17"
  }
 },
 "nbformat": 4,
 "nbformat_minor": 2
}
